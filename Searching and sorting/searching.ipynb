{
 "cells": [
  {
   "cell_type": "code",
   "execution_count": 8,
   "metadata": {},
   "outputs": [],
   "source": [
    "import time\n",
    "import matplotlib.pyplot as plt"
   ]
  },
  {
   "cell_type": "code",
   "execution_count": 2,
   "metadata": {},
   "outputs": [],
   "source": [
    "def seq_search(arr,ele):\n",
    "    \n",
    "    # Start at position 0\n",
    "    pos = 0\n",
    "    # Target becomes true if ele is in the list\n",
    "    found = False\n",
    "    \n",
    "    # go until end of list\n",
    "    while (pos < len(arr) and not found):\n",
    "        \n",
    "        # If match\n",
    "        if arr[pos] == ele:\n",
    "            found = True\n",
    "            \n",
    "        # Else move one down\n",
    "        else:\n",
    "            pos  = pos+1\n",
    "    \n",
    "    return found"
   ]
  },
  {
   "cell_type": "code",
   "execution_count": 5,
   "metadata": {},
   "outputs": [],
   "source": [
    "def binary_search(arr,ele):\n",
    "    \n",
    "    # First and last index values\n",
    "    first = 0\n",
    "    last = len(arr) - 1\n",
    "    \n",
    "    found = False\n",
    "    \n",
    "    while (first <= last and not found):\n",
    "        mid = (first+last)//2 \n",
    "        \n",
    "        # Match found\n",
    "        if arr[mid] == ele:\n",
    "            found = True\n",
    "        \n",
    "        # Set new midpoints up or down depending on comparison\n",
    "        else:\n",
    "            # Set down\n",
    "            if (ele < arr[mid]):\n",
    "                last = mid -1\n",
    "            # Set up \n",
    "            else:\n",
    "                first = mid + 1\n",
    "                \n",
    "    return found"
   ]
  },
  {
   "cell_type": "code",
   "execution_count": 48,
   "metadata": {},
   "outputs": [],
   "source": [
    "time_taken_seq = []\n",
    "time_taken_binary = []\n",
    "no = 100000\n",
    "for i in range(no, int(1e7) ,no):\n",
    "    arr = [j for j in range(i)]\n",
    "    \n",
    "    s1 = time.time()\n",
    "    seq = seq_search(arr,i+1)\n",
    "    e1 = time.time()\n",
    "    r1 = e1-s1\n",
    "    \n",
    "    s2 = time.time()\n",
    "    binary = binary_search(arr,i-1)\n",
    "    e2 = time.time()\n",
    "    r2 = e2-s2\n",
    "    \n",
    "    time_taken_seq.append(r1)\n",
    "    time_taken_binary.append(r2)"
   ]
  },
  {
   "cell_type": "code",
   "execution_count": 51,
   "metadata": {},
   "outputs": [],
   "source": [
    "plt.plot([i for i in range(no,int(1e7),no)],[time_taken_seq[i] for i in range(len(time_taken_seq))],label = 'Sequential Search')\n",
    "plt.plot([i for i in range(no,int(1e7),no)],[time_taken_binary[i] for i in range(len(time_taken_binary))], label = 'Binary Search')\n",
    "plt.xlabel('Number of elements')\n",
    "plt.ylabel('Time taken')\n",
    "plt.legend()\n",
    "plt.show()"
   ]
  }
 ],
 "metadata": {
  "kernelspec": {
   "display_name": "gputest",
   "language": "python",
   "name": "gputest"
  },
  "language_info": {
   "codemirror_mode": {
    "name": "ipython",
    "version": 3
   },
   "file_extension": ".py",
   "mimetype": "text/x-python",
   "name": "python",
   "nbconvert_exporter": "python",
   "pygments_lexer": "ipython3",
   "version": "3.7.7"
  }
 },
 "nbformat": 4,
 "nbformat_minor": 4
}
